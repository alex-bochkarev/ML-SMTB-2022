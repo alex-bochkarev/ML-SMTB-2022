{
 "cells": [
  {
   "cell_type": "code",
   "execution_count": 2,
   "id": "389c3bdb",
   "metadata": {},
   "outputs": [],
   "source": [
    "import torch\n",
    "import torch.nn as nn\n",
    "import torch.optim as optim\n",
    "\n",
    "from torchvision import datasets, transforms"
   ]
  },
  {
   "cell_type": "code",
   "execution_count": 41,
   "id": "086707e0",
   "metadata": {},
   "outputs": [],
   "source": [
    "# Convert input images to tensors and normalize\n",
    "transform=transforms.Compose([\n",
    "    transforms.ToTensor(),\n",
    "    transforms.Normalize((0.1307,), (0.3081,))])\n",
    "\n",
    "# Get the MNIST data from torchvision\n",
    "dataset1 = datasets.MNIST('./', train=True, download=True,\n",
    "                    transform=transform)\n",
    "dataset2 = datasets.MNIST('./', train=False,\n",
    "                    transform=transform)\n",
    "\n",
    "# Define the data loaders that will handle fetching of data\n",
    "train_loader = torch.utils.data.DataLoader(dataset1, batch_size = 64)\n",
    "test_loader = torch.utils.data.DataLoader(dataset2, batch_size = 14)\n"
   ]
  },
  {
   "cell_type": "code",
   "execution_count": 42,
   "id": "a23a3557",
   "metadata": {},
   "outputs": [
    {
     "name": "stdout",
     "output_type": "stream",
     "text": [
      "Dataset MNIST\n",
      "    Number of datapoints: 60000\n",
      "    Root location: ./\n",
      "    Split: Train\n",
      "    StandardTransform\n",
      "Transform: Compose(\n",
      "               ToTensor()\n",
      "               Normalize(mean=(0.1307,), std=(0.3081,))\n",
      "           )\n"
     ]
    }
   ],
   "source": [
    "print(dataset1)"
   ]
  },
  {
   "cell_type": "code",
   "execution_count": null,
   "id": "439401a1",
   "metadata": {},
   "outputs": [],
   "source": [
    "import matplotlib.pyplot as plt\n",
    "import numpy as np"
   ]
  },
  {
   "cell_type": "code",
   "execution_count": 43,
   "id": "018ca99a",
   "metadata": {},
   "outputs": [
    {
     "name": "stdout",
     "output_type": "stream",
     "text": [
      "Correct label: 9\n"
     ]
    },
    {
     "data": {
      "image/png": "[encoded data removed]",
      "text/plain": [
       "<Figure size 432x288 with 1 Axes>"
      ]
     },
     "metadata": {
      "needs_background": "light"
     },
     "output_type": "display_data"
    }
   ],
   "source": [
    "m = np.random.randint(1, 1000)\n",
    "\n",
    "img = dataset1[m][0]\n",
    "lbl = dataset1[m][1]\n",
    "\n",
    "plt.imshow(img[0])\n",
    "print(f\"Correct label: {lbl}\")"
   ]
  },
  {
   "cell_type": "code",
   "execution_count": 44,
   "id": "31460300",
   "metadata": {},
   "outputs": [],
   "source": [
    "model = nn.Sequential(\n",
    "    nn.Linear(784, 256),\n",
    "    nn.Sigmoid(),\n",
    "    nn.Linear(256, 64),\n",
    "    nn.Sigmoid(),\n",
    "    nn.Linear(64, 10)\n",
    ")"
   ]
  },
  {
   "cell_type": "code",
   "execution_count": 57,
   "id": "b2215f9b",
   "metadata": {},
   "outputs": [],
   "source": [
    "criterion = nn.CrossEntropyLoss()\n",
    "optimizer = optim.SGD(model.parameters(), lr=0.001)\n",
    "batch_size = 128\n",
    "epochs = 500"
   ]
  },
  {
   "cell_type": "code",
   "execution_count": null,
   "id": "92dc3e0b",
   "metadata": {},
   "outputs": [
    {
     "name": "stdout",
     "output_type": "stream",
     "text": [
      "Epoch [0] Loss: 2164.552\n",
      "Epoch [10] Loss: 2071.297\n",
      "Epoch [20] Loss: 1732.982\n",
      "Epoch [30] Loss: 1264.742\n",
      "Epoch [40] Loss: 950.619\n",
      "Epoch [50] Loss: 753.464\n",
      "Epoch [60] Loss: 623.621\n",
      "Epoch [70] Loss: 535.791\n",
      "Epoch [80] Loss: 475.198\n",
      "Epoch [90] Loss: 431.985\n",
      "Epoch [100] Loss: 400.104\n",
      "Epoch [110] Loss: 375.784\n",
      "Epoch [120] Loss: 356.604\n",
      "Epoch [130] Loss: 340.989\n",
      "Epoch [140] Loss: 327.903\n"
     ]
    }
   ],
   "source": [
    "for epoch in range(epochs):\n",
    "    running_loss = 0.0\n",
    "    for i, (batch_data, target) in enumerate(train_loader):\n",
    "        # forward pass\n",
    "        optimizer.zero_grad()\n",
    "        batch_data = batch_data.view(batch_data.size(0), -1)\n",
    "        pred_labels = model(batch_data)  # forward pass\n",
    "        \n",
    "        loss = criterion(pred_labels, target)\n",
    "\t\t\n",
    "        loss.backward()\n",
    "\n",
    "\t\t# Update parameters\n",
    "        optimizer.step()\n",
    "\n",
    "\t\t# Print progress\n",
    "        running_loss += loss.item()\n",
    "        \n",
    "    if epoch % 10 == 0:\n",
    "        print(f\"Epoch [{epoch}] Loss: {running_loss:.3f}\")\n",
    "\n",
    "print (\"\\n ### Finished Training ### \\n\")"
   ]
  },
  {
   "cell_type": "markdown",
   "id": "95ebccfe",
   "metadata": {},
   "source": [
    "## Let's test what we have got:"
   ]
  },
  {
   "cell_type": "code",
   "execution_count": null,
   "id": "bce1e080",
   "metadata": {},
   "outputs": [],
   "source": [
    "m = np.random.randint(1, 1000)\n",
    "\n",
    "img = dataset2[m][0]\n",
    "lbl = dataset2[m][1]\n",
    "\n",
    "plt.imshow(img[0])\n",
    "with torch.no_grad():\n",
    "    out = model.forward(img.view(img.size(0), -1)).float()\n",
    "\n",
    "print(f\"Correct label: {lbl}\")\n",
    "print(f\"Prediction: {out}\")"
   ]
  }
 ],
 "metadata": {
  "kernelspec": {
   "display_name": "Python 3 (ipykernel)",
   "language": "python",
   "name": "python3"
  },
  "language_info": {
   "codemirror_mode": {
    "name": "ipython",
    "version": 3
   },
   "file_extension": ".py",
   "mimetype": "text/x-python",
   "name": "python",
   "nbconvert_exporter": "python",
   "pygments_lexer": "ipython3",
   "version": "3.10.5"
  }
 },
 "nbformat": 4,
 "nbformat_minor": 5
}
