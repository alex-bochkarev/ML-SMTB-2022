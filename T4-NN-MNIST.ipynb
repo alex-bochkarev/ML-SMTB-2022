{
 "cells": [
  {
   "cell_type": "markdown",
   "id": "1ef12cae",
   "metadata": {
    "slideshow": {
     "slide_type": "slide"
    }
   },
   "source": [
    "![Course title](./images/title.png)\n",
    "<i> Alexey Bochkarev </i> | [🌐 www.bochkarev.io](https://www.bochkarev.io) | [✉ a@bochkarev.io](mailto:a@bochkarev.io)\n",
    "\n",
    "**Discord:** `co05-как-учить-машины-простые-примеры-про-ml`"
   ]
  },
  {
   "cell_type": "markdown",
   "id": "11eef565",
   "metadata": {
    "slideshow": {
     "slide_type": "fragment"
    }
   },
   "source": [
    "# ③ Neural Networks: Image Recognition!"
   ]
  },
  {
   "cell_type": "markdown",
   "id": "4c8a2234",
   "metadata": {
    "slideshow": {
     "slide_type": "slide"
    }
   },
   "source": [
    "First: we will use `PyTorch`, a popular ML framework. That will make things way easier (and remove the necessity to take derivatives by hand :))"
   ]
  },
  {
   "cell_type": "code",
   "execution_count": 1,
   "id": "389c3bdb",
   "metadata": {
    "slideshow": {
     "slide_type": "fragment"
    }
   },
   "outputs": [],
   "source": [
    "import torch\n",
    "import torch.nn as nn\n",
    "import torch.optim as optim\n",
    "\n",
    "from torchvision import datasets, transforms"
   ]
  },
  {
   "cell_type": "markdown",
   "id": "2778326c",
   "metadata": {
    "slideshow": {
     "slide_type": "slide"
    }
   },
   "source": [
    "There is an overhead cost though: we will need to load data with a somewhat unusual way (with this `DataLoader` class defined in `torch.utils.data`. On the positive side: MNIST dataset is so popular that PyTorch will download it for us automatically!"
   ]
  },
  {
   "cell_type": "code",
   "execution_count": 2,
   "id": "086707e0",
   "metadata": {
    "slideshow": {
     "slide_type": "fragment"
    }
   },
   "outputs": [],
   "source": [
    "# Convert input images to tensors and normalize\n",
    "transform=transforms.Compose([\n",
    "    transforms.ToTensor(),\n",
    "    transforms.Normalize((0.1307,), (0.3081,))])\n",
    "\n",
    "# Get the MNIST data from torchvision\n",
    "dataset1 = datasets.MNIST('./', train=True, download=True,\n",
    "                    transform=transform)\n",
    "dataset2 = datasets.MNIST('./', train=False,\n",
    "                    transform=transform)\n",
    "\n",
    "# Define the data loaders that will handle fetching of data\n",
    "train_loader = torch.utils.data.DataLoader(dataset1, batch_size = 64)\n",
    "test_loader = torch.utils.data.DataLoader(dataset2, batch_size = 14)\n"
   ]
  },
  {
   "cell_type": "markdown",
   "id": "6cc777c5",
   "metadata": {
    "slideshow": {
     "slide_type": "slide"
    }
   },
   "source": [
    "Let's see what data we have (\"eyeballing\" the data is always a good thing to do!)"
   ]
  },
  {
   "cell_type": "code",
   "execution_count": 3,
   "id": "a23a3557",
   "metadata": {
    "slideshow": {
     "slide_type": "fragment"
    }
   },
   "outputs": [
    {
     "name": "stdout",
     "output_type": "stream",
     "text": [
      "Dataset MNIST\n",
      "    Number of datapoints: 60000\n",
      "    Root location: ./\n",
      "    Split: Train\n",
      "    StandardTransform\n",
      "Transform: Compose(\n",
      "               ToTensor()\n",
      "               Normalize(mean=(0.1307,), std=(0.3081,))\n",
      "           )\n"
     ]
    }
   ],
   "source": [
    "print(dataset1)"
   ]
  },
  {
   "cell_type": "code",
   "execution_count": 4,
   "id": "439401a1",
   "metadata": {
    "slideshow": {
     "slide_type": "skip"
    }
   },
   "outputs": [],
   "source": [
    "import matplotlib.pyplot as plt\n",
    "import numpy as np"
   ]
  },
  {
   "cell_type": "code",
   "execution_count": 134,
   "id": "018ca99a",
   "metadata": {
    "slideshow": {
     "slide_type": "slide"
    }
   },
   "outputs": [
    {
     "name": "stdout",
     "output_type": "stream",
     "text": [
      "Correct label: 5\n"
     ]
    },
    {
     "data": {
      "image/png": "[encoded data removed]",
      "text/plain": [
       "<Figure size 432x288 with 1 Axes>"
      ]
     },
     "metadata": {},
     "output_type": "display_data"
    }
   ],
   "source": [
    "# Re-run this cell several times to\n",
    "# check out different numbers!\n",
    "\n",
    "m = np.random.randint(1, 1000)\n",
    "\n",
    "img = dataset1[m][0]\n",
    "lbl = dataset1[m][1]\n",
    "\n",
    "plt.imshow(img[0])\n",
    "print(f\"Correct label: {lbl}\")"
   ]
  },
  {
   "cell_type": "markdown",
   "id": "a11ff540",
   "metadata": {
    "slideshow": {
     "slide_type": "slide"
    }
   },
   "source": [
    "## Let us define a simple model.\n",
    "\n",
    "We will use more or less the same type of \"perceptrons\" we had before, but we will add layers. That is:\n",
    "\n",
    "![NN architecture](./images/mnist-net.png)"
   ]
  },
  {
   "cell_type": "markdown",
   "id": "756e78de",
   "metadata": {
    "slideshow": {
     "slide_type": "fragment"
    }
   },
   "source": [
    "In PyTorch speak this will look like:"
   ]
  },
  {
   "cell_type": "code",
   "execution_count": 6,
   "id": "31460300",
   "metadata": {
    "slideshow": {
     "slide_type": "fragment"
    }
   },
   "outputs": [],
   "source": [
    "model = nn.Sequential(\n",
    "    nn.Linear(784, 256),\n",
    "    nn.Sigmoid(),\n",
    "    nn.Linear(256, 64),\n",
    "    nn.Sigmoid(),\n",
    "    nn.Linear(64, 10)\n",
    ")"
   ]
  },
  {
   "cell_type": "markdown",
   "id": "69870c44",
   "metadata": {
    "slideshow": {
     "slide_type": "slide"
    }
   },
   "source": [
    "## Now, fix a few parameters:"
   ]
  },
  {
   "cell_type": "code",
   "execution_count": 7,
   "id": "b2215f9b",
   "metadata": {
    "slideshow": {
     "slide_type": "fragment"
    }
   },
   "outputs": [],
   "source": [
    "criterion = nn.CrossEntropyLoss()  # Somewhat in the similar logic like we had for Logit\n",
    "optimizer = optim.SGD(model.parameters(), lr=0.01)  # Optimization method\n",
    "batch_size = 128\n",
    "epochs = 500"
   ]
  },
  {
   "cell_type": "markdown",
   "id": "a808ebe2",
   "metadata": {
    "slideshow": {
     "slide_type": "slide"
    }
   },
   "source": [
    "## Training procedure:"
   ]
  },
  {
   "cell_type": "code",
   "execution_count": 98,
   "id": "bd01aeca",
   "metadata": {
    "slideshow": {
     "slide_type": "skip"
    }
   },
   "outputs": [],
   "source": [
    "# Note that I have also saved the model with:\n",
    "# torch.save(model, \"./MNIST_model.pt\")\n",
    "# (so you could try to load it instead of training for 2 hours...)"
   ]
  },
  {
   "cell_type": "code",
   "execution_count": 8,
   "id": "92dc3e0b",
   "metadata": {
    "slideshow": {
     "slide_type": "fragment"
    }
   },
   "outputs": [
    {
     "name": "stdout",
     "output_type": "stream",
     "text": [
      "Epoch [0] Loss: 2128.369\n",
      "Epoch [10] Loss: 389.390\n",
      "Epoch [20] Loss: 272.579\n",
      "Epoch [30] Loss: 217.342\n",
      "Epoch [40] Loss: 177.566\n",
      "Epoch [50] Loss: 147.899\n",
      "Epoch [60] Loss: 125.352\n",
      "Epoch [70] Loss: 107.727\n",
      "Epoch [80] Loss: 93.621\n",
      "Epoch [90] Loss: 82.114\n",
      "Epoch [100] Loss: 72.551\n",
      "Epoch [110] Loss: 64.461\n",
      "Epoch [120] Loss: 57.515\n",
      "Epoch [130] Loss: 51.484\n",
      "Epoch [140] Loss: 46.202\n",
      "Epoch [150] Loss: 41.548\n",
      "Epoch [160] Loss: 37.429\n",
      "Epoch [170] Loss: 33.775\n",
      "Epoch [180] Loss: 30.531\n",
      "Epoch [190] Loss: 27.649\n",
      "Epoch [200] Loss: 25.088\n",
      "Epoch [210] Loss: 22.811\n",
      "Epoch [220] Loss: 20.783\n",
      "Epoch [230] Loss: 18.977\n",
      "Epoch [240] Loss: 17.366\n",
      "Epoch [250] Loss: 15.928\n",
      "Epoch [260] Loss: 14.645\n",
      "Epoch [270] Loss: 13.499\n",
      "Epoch [280] Loss: 12.474\n",
      "Epoch [290] Loss: 11.556\n",
      "Epoch [300] Loss: 10.732\n",
      "Epoch [310] Loss: 9.991\n",
      "Epoch [320] Loss: 9.322\n",
      "Epoch [330] Loss: 8.717\n",
      "Epoch [340] Loss: 8.168\n",
      "Epoch [350] Loss: 7.668\n",
      "Epoch [360] Loss: 7.212\n",
      "Epoch [370] Loss: 6.794\n",
      "Epoch [380] Loss: 6.411\n",
      "Epoch [390] Loss: 6.059\n",
      "Epoch [400] Loss: 5.735\n",
      "Epoch [410] Loss: 5.436\n",
      "Epoch [420] Loss: 5.160\n",
      "Epoch [430] Loss: 4.904\n",
      "Epoch [440] Loss: 4.668\n",
      "Epoch [450] Loss: 4.448\n",
      "Epoch [460] Loss: 4.245\n",
      "Epoch [470] Loss: 4.057\n",
      "Epoch [480] Loss: 3.882\n",
      "Epoch [490] Loss: 3.720\n",
      "\n",
      " ### Finished Training in 110.4 min ### \n",
      "\n"
     ]
    }
   ],
   "source": [
    "from time import time\n",
    "t0 = time()\n",
    "\n",
    "for epoch in range(epochs):\n",
    "    running_loss = 0.0\n",
    "    for i, (batch_data, target) in enumerate(train_loader):\n",
    "        # forward pass\n",
    "        optimizer.zero_grad()\n",
    "        batch_data = batch_data.view(batch_data.size(0), -1)\n",
    "        pred_labels = model(batch_data)  # forward pass\n",
    "        \n",
    "        loss = criterion(pred_labels, target)\n",
    "\n",
    "        loss.backward()\n",
    "\n",
    "        # Update parameters\n",
    "        optimizer.step()\n",
    "\n",
    "        # Print progress\n",
    "        running_loss += loss.item()\n",
    "        \n",
    "    if epoch % 10 == 0:\n",
    "        print(f\"Epoch [{epoch}] Loss: {running_loss:.3f}\")\n",
    "\n",
    "t1 = time()\n",
    "\n",
    "print (f\"\\n ### Finished Training in {(t1-t0)/60:.1f} min ### \\n\")"
   ]
  },
  {
   "cell_type": "markdown",
   "id": "95ebccfe",
   "metadata": {
    "slideshow": {
     "slide_type": "slide"
    }
   },
   "source": [
    "## Let's test what we have got:"
   ]
  },
  {
   "cell_type": "code",
   "execution_count": 140,
   "id": "bce1e080",
   "metadata": {
    "slideshow": {
     "slide_type": "fragment"
    }
   },
   "outputs": [
    {
     "name": "stdout",
     "output_type": "stream",
     "text": [
      "Correct label: 4\n",
      "Prediction: 4\n"
     ]
    },
    {
     "data": {
      "image/png": "[encoded data removed]",
      "text/plain": [
       "<Figure size 432x288 with 1 Axes>"
      ]
     },
     "metadata": {},
     "output_type": "display_data"
    }
   ],
   "source": [
    "# Re-run this cell to check out\n",
    "# different numbers from the test dataset!\n",
    "m = np.random.randint(1, 1000)\n",
    "\n",
    "img = dataset2[m][0]\n",
    "lbl = dataset2[m][1]\n",
    "\n",
    "plt.imshow(img[0])\n",
    "with torch.no_grad():\n",
    "    out = model.forward(img.view(img.size(0), -1)).float()\n",
    "\n",
    "print(f\"Correct label: {lbl}\")\n",
    "nums = [j for j in range(10)]\n",
    "\n",
    "print(f\"Prediction: {nums[np.argmax(out)]}\")"
   ]
  },
  {
   "cell_type": "code",
   "execution_count": 94,
   "id": "72c6172d",
   "metadata": {
    "slideshow": {
     "slide_type": "slide"
    }
   },
   "outputs": [
    {
     "name": "stdout",
     "output_type": "stream",
     "text": [
      "Prediction score: 0.98 (9809 out of 10000)\n"
     ]
    }
   ],
   "source": [
    "correct_score = 0\n",
    "total = len(dataset2)\n",
    "nums = [j for j in range(10)]\n",
    "\n",
    "for m in range(total):\n",
    "    with torch.no_grad():\n",
    "        img = dataset2[m][0]\n",
    "        lbl = dataset2[m][1]\n",
    "        out = model.forward(img.view(img.size(0), -1)).float()\n",
    "        prediction = nums[np.argmax(out)]\n",
    "        if prediction == lbl:\n",
    "            correct_score += 1\n",
    "            \n",
    "print(f\"Prediction score: {correct_score / total:.2f} ({correct_score} out of {total})\")\n"
   ]
  },
  {
   "cell_type": "markdown",
   "id": "85dd03a7",
   "metadata": {
    "slideshow": {
     "slide_type": "fragment"
    }
   },
   "source": [
    "The score of 98% correct answers is pretty impressive, if you ask me!"
   ]
  },
  {
   "cell_type": "markdown",
   "id": "b8ef7247",
   "metadata": {
    "slideshow": {
     "slide_type": "slide"
    }
   },
   "source": [
    "# Wrap-up\n",
    "- **ML:** data-driven procedures.\n",
    "\n",
    "- We discussed three fundamental types of models:\n",
    "  - Linear Regression (wine prices),\n",
    "  - Logistic Regression (Framingham Risk Score),\n",
    "  - Neural Networks (Image recognition thing)\n",
    "  \n",
    "- Mostly, we define a \"loss\" and minimize it with respect to model parameters,\n",
    "- It's important to pick a good model for the problem at hand\n",
    "- NNs are quite powerful (even the simple ones we looked into in the course!), ...\n",
    "- ... but *interpretability* might be an issue.\n",
    "- usually, there are convenient libraries to run any given (more or less standard) type of models. So that you wouldn't need to take derivatives by hand :)\n",
    "- **a lot** of resources online (Coursera / EdX), Kaggle, blogs, etc. -- `README` file for this course contains a few links to start with..."
   ]
  }
 ],
 "metadata": {
  "celltoolbar": "Slideshow",
  "kernelspec": {
   "display_name": "Python 3 (ipykernel)",
   "language": "python",
   "name": "python3"
  },
  "language_info": {
   "codemirror_mode": {
    "name": "ipython",
    "version": 3
   },
   "file_extension": ".py",
   "mimetype": "text/x-python",
   "name": "python",
   "nbconvert_exporter": "python",
   "pygments_lexer": "ipython3",
   "version": "3.10.5"
  },
  "rise": {
   "enable_chalkboard": true,
   "progress": true,
   "scroll": true,
   "theme": "night",
   "transition": "convex"
  }
 },
 "nbformat": 4,
 "nbformat_minor": 5
}
